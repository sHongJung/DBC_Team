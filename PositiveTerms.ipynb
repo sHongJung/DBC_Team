{
 "cells": [
  {
   "cell_type": "code",
   "execution_count": 6,
   "metadata": {},
   "outputs": [],
   "source": [
    "import pandas as pd\n",
    "from functools import reduce\n"
   ]
  },
  {
   "cell_type": "code",
   "execution_count": 8,
   "metadata": {},
   "outputs": [],
   "source": [
    "bitcoin=pd.read_csv(\"Bitcoin.csv\")\n",
    "coinbase=pd.read_csv(\"Coinbase.csv\")\n",
    "buybitcoin=pd.read_csv(\"buybitcoin.csv\")\n",
    "coinmarketcap=pd.read_csv(\"CoinMarketCap.csv\")\n",
    "kraken=pd.read_csv(\"Kraken.csv\")\n",
    "gdax=pd.read_csv(\"gdax.csv\")\n",
    "binance=pd.read_csv(\"Binance.csv\")\n",
    "blockchain=pd.read_csv(\"BlockcChain.csv\")\n",
    "\n",
    "#dfs = [bitcoin,coinbase,buybitcoin,coinmarketcap,kraken,gdax,binance,blockchain]\n",
    "#Names=[\"bitcoin\",\"coinbase\",\"buybitcoin\",\"coinmarketcap\",\"kraken\",\"gdax\",\"binance\",\"blockchain\"]\n",
    "\n",
    "\n",
    "\n",
    "\n",
    "\n"
   ]
  },
  {
   "cell_type": "code",
   "execution_count": 12,
   "metadata": {},
   "outputs": [],
   "source": [
    "dfs = [bitcoin,coinbase,buybitcoin,coinmarketcap,kraken,gdax,binance,blockchain]\n",
    "positivemerged=reduce(lambda left,right: pd.merge(left,right,on=\"Day\"),dfs)\n",
    "positivemerged.to_csv('Positive.csv')"
   ]
  },
  {
   "cell_type": "code",
   "execution_count": null,
   "metadata": {},
   "outputs": [],
   "source": []
  },
  {
   "cell_type": "code",
   "execution_count": null,
   "metadata": {},
   "outputs": [],
   "source": []
  }
 ],
 "metadata": {
  "kernelspec": {
   "display_name": "Python 3",
   "language": "python",
   "name": "python3"
  },
  "language_info": {
   "codemirror_mode": {
    "name": "ipython",
    "version": 3
   },
   "file_extension": ".py",
   "mimetype": "text/x-python",
   "name": "python",
   "nbconvert_exporter": "python",
   "pygments_lexer": "ipython3",
   "version": "3.6.4"
  }
 },
 "nbformat": 4,
 "nbformat_minor": 2
}
